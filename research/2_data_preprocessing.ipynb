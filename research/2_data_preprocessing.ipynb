{
 "cells": [
  {
   "cell_type": "code",
   "execution_count": 1,
   "metadata": {},
   "outputs": [],
   "source": [
    "import os"
   ]
  },
  {
   "cell_type": "code",
   "execution_count": 2,
   "metadata": {},
   "outputs": [
    {
     "data": {
      "text/plain": [
       "'c:\\\\Users\\\\ambig\\\\jupiter_notebook\\\\Projects\\\\premium-price-prediction\\\\research'"
      ]
     },
     "execution_count": 2,
     "metadata": {},
     "output_type": "execute_result"
    }
   ],
   "source": [
    "%pwd"
   ]
  },
  {
   "cell_type": "code",
   "execution_count": 3,
   "metadata": {},
   "outputs": [
    {
     "data": {
      "text/plain": [
       "'c:\\\\Users\\\\ambig\\\\jupiter_notebook\\\\Projects\\\\premium-price-prediction'"
      ]
     },
     "execution_count": 3,
     "metadata": {},
     "output_type": "execute_result"
    }
   ],
   "source": [
    "os.chdir(\"../\")\n",
    "%pwd"
   ]
  },
  {
   "cell_type": "code",
   "execution_count": 65,
   "metadata": {},
   "outputs": [],
   "source": [
    "from pathlib import Path\n",
    "from dataclasses import dataclass\n",
    "\n",
    "@dataclass\n",
    "class DataPreprocessingconfig:\n",
    "    root_dir: Path\n",
    "    input_path: Path\n",
    "    output_path: Path\n",
    "    test_filepath: Path\n",
    "    train_filepath: Path\n",
    "    raw_filepath: Path\n",
    "    preprocess_column: str"
   ]
  },
  {
   "cell_type": "code",
   "execution_count": 66,
   "metadata": {},
   "outputs": [],
   "source": [
    "from src.Premium_Price_Prediction.constants import *\n",
    "from src.Premium_Price_Prediction.utils.common import read_yaml , create_directories\n",
    "from src.Premium_Price_Prediction import logger"
   ]
  },
  {
   "cell_type": "code",
   "execution_count": 69,
   "metadata": {},
   "outputs": [],
   "source": [
    "class ConfigurationManager:\n",
    "    def __init__(self, \n",
    "                 config_filepath = CONFIG_FILE_PATH,\n",
    "                 params_filepath = PARAMS_FILE_PATH,\n",
    "                 schema_filepath = SCHEMA_FILE_PATH):\n",
    "        self.config = read_yaml(config_filepath)\n",
    "        self.params = read_yaml(params_filepath)\n",
    "        self.schema = read_yaml(schema_filepath)\n",
    "        \n",
    "        create_directories([self.config.artifacts_root])\n",
    "        \n",
    "    def get_data_preprocessing_config(self)->DataPreprocessingconfig:\n",
    "        config = self.config.data_preprocessing\n",
    "        create_directories([config.root_dir])\n",
    "        \n",
    "        data_ingestion_config = DataPreprocessingconfig(\n",
    "            root_dir = config.root_dir,\n",
    "            input_path = config.input_path,\n",
    "            output_path = config.output_path,\n",
    "            preprocess_column = config.preprocess_column,\n",
    "            train_filepath = config.train_filepath,\n",
    "            test_filepath = config.test_filepath,\n",
    "            raw_filepath = config.raw_filepath,\n",
    "            \n",
    "        )\n",
    "        return data_ingestion_config\n",
    "        \n",
    "        \n",
    "        "
   ]
  },
  {
   "cell_type": "code",
   "execution_count": null,
   "metadata": {},
   "outputs": [],
   "source": []
  },
  {
   "cell_type": "code",
   "execution_count": 71,
   "metadata": {},
   "outputs": [],
   "source": [
    "import os\n",
    "import pandas as pd\n",
    "from src.Premium_Price_Prediction import logger\n",
    "from sklearn.model_selection import train_test_split\n",
    "\n",
    "\n",
    "class DataPreprocessing:\n",
    "    def __init__(self, config: DataPreprocessingconfig):\n",
    "        # Initialize configuration attributes\n",
    "        self.input_path: str = config.input_path\n",
    "        self.output_path: str = config.output_path\n",
    "        self.preprocess_column: str = config.preprocess_column\n",
    "        self.train_filepath: str = config.train_filepath\n",
    "        self.test_filepath: str = config.test_filepath\n",
    "        self.raw_filepath: str = config.raw_filepath\n",
    "        self.df: pd.DataFrame = None  # DataFrame to hold combined data\n",
    "\n",
    "    def load_data(self) -> None:\n",
    "        \"\"\"Load data from a CSV file.\"\"\"\n",
    "        try:\n",
    "            self.df = pd.read_csv(self.raw_filepath)\n",
    "            logger.info(f\"Loaded data from {self.raw_filepath} with shape {self.df.shape}\")\n",
    "        except Exception as e:\n",
    "            logger.error(f\"Error loading data: {str(e)}\")\n",
    "            raise e\n",
    "\n",
    "    def preprocess(self) -> pd.DataFrame:\n",
    "        \"\"\"Preprocess the data by handling missing values and duplicates.\"\"\"\n",
    "        try:\n",
    "            if self.df is None:\n",
    "                self.load_data()\n",
    "\n",
    "            self.handle_missing_values()\n",
    "            self.standardize_column_names()\n",
    "            self.remove_duplicates()\n",
    "\n",
    "            return self.df\n",
    "\n",
    "        except Exception as e:\n",
    "            logger.error(f\"Error during preprocessing: {str(e)}\")\n",
    "            raise e\n",
    "\n",
    "    def handle_missing_values(self) -> None:\n",
    "        \"\"\"Handle missing values in the DataFrame.\"\"\"\n",
    "        missing_values = self.df.isna().sum().sum()\n",
    "        logger.info(f\"Total missing values before dropping: {missing_values}\")\n",
    "        self.df.dropna(inplace=True)\n",
    "        logger.info(f\"Dropped missing values; remaining rows: {self.df.shape[0]}\")\n",
    "\n",
    "    def standardize_column_names(self) -> None:\n",
    "        \"\"\"Standardize column names by replacing spaces with underscores and converting to lowercase.\"\"\"\n",
    "        self.df.columns = self.df.columns.str.replace(\" \", \"_\").str.lower()\n",
    "        logger.info(\"Standardized column names\")\n",
    "\n",
    "    def remove_duplicates(self) -> None:\n",
    "        \"\"\"Remove duplicate rows from the DataFrame.\"\"\"\n",
    "        duplicates = self.df.duplicated().sum()\n",
    "        if duplicates > 0:\n",
    "            self.df.drop_duplicates(inplace=True)\n",
    "            logger.info(f\"Dropped {duplicates} duplicate rows; remaining rows: {self.df.shape[0]}\")\n",
    "        else:\n",
    "            logger.info(\"No duplicate rows found\")\n",
    "\n",
    "    def save_data(self) -> None:\n",
    "        \"\"\"Save the processed training and testing datasets to specified output paths.\"\"\"\n",
    "        try:\n",
    "            os.makedirs(self.output_path, exist_ok=True)\n",
    "            logger.info(\"Train-test split initiated\")\n",
    "            train_set, test_set = train_test_split(self.df, test_size=0.2, random_state=42)\n",
    "\n",
    "            train_set.to_csv(self.train_filepath, index=False, header=True)\n",
    "            test_set.to_csv(self.test_filepath, index=False, header=True)\n",
    "            logger.info(\"Data saved to train and test files successfully\")\n",
    "        except Exception as e:\n",
    "            logger.error(f\"Error saving data: {str(e)}\")\n",
    "            raise e\n",
    "\n",
    "    def iqr_bounds(self, column_name: str) -> tuple:\n",
    "        \"\"\"Calculate the IQR bounds for a given column.\"\"\"\n",
    "        q1 = self.df[column_name].quantile(0.25)\n",
    "        q3 = self.df[column_name].quantile(0.75)\n",
    "        iqr = q3 - q1\n",
    "        lower_bound = q1 - 1.5 * iqr\n",
    "        upper_bound = q3 + 1.5 * iqr\n",
    "        return lower_bound, upper_bound\n",
    "\n",
    "    def apply_iqr_treatment(self) -> pd.DataFrame:\n",
    "        \"\"\"Apply IQR treatment to the specified column in the DataFrame.\"\"\"\n",
    "        try:\n",
    "            if self.df is None:\n",
    "                self.load_data()\n",
    "\n",
    "            # Check if the preprocess_column exists\n",
    "            if self.preprocess_column not in self.df.columns:\n",
    "                logger.error(f\"Column '{self.preprocess_column}' does not exist in the DataFrame.\")\n",
    "                raise KeyError(f\"Column '{self.preprocess_column}' does not exist in the DataFrame.\")\n",
    "\n",
    "            lower, upper = self.iqr_bounds(self.preprocess_column)\n",
    "            self.df[self.preprocess_column] = self.df[self.preprocess_column].clip(lower=lower, upper=upper)\n",
    "            logger.info(f\"IQR treatment applied on column '{self.preprocess_column}' with bounds {lower} and {upper}\")\n",
    "\n",
    "            self.remove_extreme_outliers()\n",
    "\n",
    "            # Standardize 'smoking_status' values if present\n",
    "            self.standardize_smoking_status()\n",
    "\n",
    "            # Filter the DataFrame for training dataset and drop 'dataset' column\n",
    "            if 'dataset' in self.df.columns:\n",
    "                self.df = self.df[self.df['dataset'] == 'train'].drop(columns=['dataset'])\n",
    "\n",
    "            return self.df\n",
    "\n",
    "        except KeyError as ke:\n",
    "            logger.error(f\"KeyError: {str(ke)}\")\n",
    "            raise\n",
    "        except Exception as e:\n",
    "            logger.error(f\"Error during IQR treatment: {str(e)}\")\n",
    "            raise e\n",
    "\n",
    "    def remove_extreme_outliers(self) -> None:\n",
    "        \"\"\"Remove extreme outliers based on the 99.9th percentile.\"\"\"\n",
    "        quantile_threshold = self.df[self.preprocess_column].quantile(0.999)\n",
    "        extreme_outliers = self.df[self.df[self.preprocess_column] > quantile_threshold].shape[0]\n",
    "        self.df = self.df[self.df[self.preprocess_column] <= quantile_threshold]\n",
    "        logger.info(f\"Removed {extreme_outliers} extreme outliers beyond 99.9th percentile for '{self.preprocess_column}'\")\n",
    "\n",
    "    def standardize_smoking_status(self) -> None:\n",
    "        \"\"\"Standardize values in the 'smoking_status' column if it exists.\"\"\"\n",
    "        if 'smoking_status' in self.df.columns:\n",
    "            self.df['smoking_status'] = self.df['smoking_status'].replace({\n",
    "                'Not Smoking': 'No Smoking',\n",
    "                'Does Not Smoke': 'No Smoking',\n",
    "                'Smoking=0': 'No Smoking'\n",
    "            })\n",
    "            logger.info(\"Standardized values in 'smoking_status' column to unify non-smoking labels\")\n",
    "\n",
    "\n",
    "# Main execution block\n"
   ]
  },
  {
   "cell_type": "code",
   "execution_count": 72,
   "metadata": {},
   "outputs": [
    {
     "name": "stdout",
     "output_type": "stream",
     "text": [
      "[2024-11-04 12:51:55,070: INFO: common: 30] YAML file : config\\config.yaml loaded successfully\n",
      "[2024-11-04 12:51:55,070: INFO: common: 30] YAML file : params.yaml loaded successfully\n",
      "[2024-11-04 12:51:55,075: INFO: common: 30] YAML file : schema.yaml loaded successfully\n",
      "[2024-11-04 12:51:55,078: INFO: common: 50] Directory artifacts created successfully.\n",
      "[2024-11-04 12:51:55,080: INFO: common: 50] Directory artifacts/data_preprocessing created successfully.\n",
      "[2024-11-04 12:51:55,183: INFO: 2727307769: 22] Loaded data from artifacts/data_ingestion/raw.csv with shape (50000, 13)\n",
      "[2024-11-04 12:51:55,210: INFO: 2727307769: 46] Total missing values before dropping: 26\n",
      "[2024-11-04 12:51:55,233: INFO: 2727307769: 48] Dropped missing values; remaining rows: 49976\n",
      "[2024-11-04 12:51:55,233: INFO: 2727307769: 53] Standardized column names\n",
      "[2024-11-04 12:51:55,278: INFO: 2727307769: 62] No duplicate rows found\n",
      "[2024-11-04 12:51:55,282: INFO: 2727307769: 100] IQR treatment applied on column 'income_lakhs' with bounds -29.0 and 67.0\n",
      "[2024-11-04 12:51:55,294: INFO: 2727307769: 125] Removed 0 extreme outliers beyond 99.9th percentile for 'income_lakhs'\n",
      "[2024-11-04 12:51:55,294: INFO: 2727307769: 135] Standardized values in 'smoking_status' column to unify non-smoking labels\n",
      "[2024-11-04 12:51:55,307: INFO: 2727307769: 68] Train-test split initiated\n",
      "[2024-11-04 12:51:55,552: INFO: 2727307769: 73] Data saved to train and test files successfully\n"
     ]
    }
   ],
   "source": [
    "try:\n",
    "    # Initialize the configuration manager and get the preprocessing config\n",
    "    config = ConfigurationManager()\n",
    "    data_preprocessing_config = config.get_data_preprocessing_config()\n",
    "    data_preprocessing = DataPreprocessing(data_preprocessing_config)\n",
    "    data_preprocessing.load_data()  \n",
    "    data_preprocessing.preprocess()  \n",
    "    data_preprocessing.apply_iqr_treatment()  \n",
    "    data_preprocessing.save_data()  \n",
    "\n",
    "except Exception as e:\n",
    "    print(f\"An error occurred: {e}\")  # Print the error message\n"
   ]
  },
  {
   "cell_type": "code",
   "execution_count": null,
   "metadata": {},
   "outputs": [],
   "source": []
  }
 ],
 "metadata": {
  "kernelspec": {
   "display_name": "venv",
   "language": "python",
   "name": "python3"
  },
  "language_info": {
   "codemirror_mode": {
    "name": "ipython",
    "version": 3
   },
   "file_extension": ".py",
   "mimetype": "text/x-python",
   "name": "python",
   "nbconvert_exporter": "python",
   "pygments_lexer": "ipython3",
   "version": "3.10.0"
  }
 },
 "nbformat": 4,
 "nbformat_minor": 2
}
