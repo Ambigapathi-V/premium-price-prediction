{
 "cells": [
  {
   "cell_type": "code",
   "execution_count": 1,
   "metadata": {},
   "outputs": [],
   "source": [
    "import os"
   ]
  },
  {
   "cell_type": "code",
   "execution_count": 2,
   "metadata": {},
   "outputs": [
    {
     "data": {
      "text/plain": [
       "'c:\\\\Users\\\\ambig\\\\jupiter_notebook\\\\Projects\\\\premium-price-prediction\\\\research'"
      ]
     },
     "execution_count": 2,
     "metadata": {},
     "output_type": "execute_result"
    }
   ],
   "source": [
    "%pwd"
   ]
  },
  {
   "cell_type": "code",
   "execution_count": 3,
   "metadata": {},
   "outputs": [],
   "source": [
    "os.chdir(\"../\")"
   ]
  },
  {
   "cell_type": "code",
   "execution_count": 4,
   "metadata": {},
   "outputs": [
    {
     "data": {
      "text/plain": [
       "'c:\\\\Users\\\\ambig\\\\jupiter_notebook\\\\Projects\\\\premium-price-prediction'"
      ]
     },
     "execution_count": 4,
     "metadata": {},
     "output_type": "execute_result"
    }
   ],
   "source": [
    "%pwd"
   ]
  },
  {
   "cell_type": "code",
   "execution_count": 5,
   "metadata": {},
   "outputs": [],
   "source": [
    "from dataclasses import dataclass\n",
    "from pathlib import Path\n",
    "@dataclass\n",
    "class ModelEvaluationConfig:\n",
    "    root_dir : Path\n",
    "    test_filepath : Path\n",
    "    train_filepath : Path\n",
    "    model_path : Path\n",
    "    "
   ]
  },
  {
   "cell_type": "code",
   "execution_count": 6,
   "metadata": {},
   "outputs": [],
   "source": [
    "from src.Premium_Price_Prediction.constants import *\n",
    "from src.Premium_Price_Prediction.utils.common import read_yaml , create_directories,save_object\n",
    "import warnings\n",
    "warnings.filterwarnings(\"ignore\")"
   ]
  },
  {
   "cell_type": "code",
   "execution_count": 7,
   "metadata": {},
   "outputs": [],
   "source": [
    "class ConfigurationManager:\n",
    "    def __init__(self, \n",
    "                 config_filepath=CONFIG_FILE_PATH,\n",
    "                 params_filepath=PARAMS_FILE_PATH,\n",
    "                 schema_filepath=SCHEMA_FILE_PATH):\n",
    "        self.config = read_yaml(config_filepath)\n",
    "        self.params = read_yaml(params_filepath)\n",
    "        self.schema = read_yaml(schema_filepath)\n",
    "        \n",
    "        create_directories([self.config.artifacts_root])\n",
    "        \n",
    "    def get_model_evaluation(self) -> ModelEvaluationConfig:\n",
    "        config = self.config.model_evaluation\n",
    "        create_directories([config.root_dir])\n",
    "        \n",
    "        model_evaluation_config = ModelEvaluationConfig(\n",
    "            root_dir=config.root_dir,\n",
    "            train_filepath=config.train_filepath,\n",
    "            test_filepath=config.test_filepath,\n",
    "            model_path=config.model_path,\n",
    "        )\n",
    "        return model_evaluation_config\n"
   ]
  },
  {
   "cell_type": "code",
   "execution_count": 10,
   "metadata": {},
   "outputs": [],
   "source": [
    "import pandas as pd\n",
    "import numpy as np\n",
    "from sklearn.model_selection import train_test_split, RandomizedSearchCV\n",
    "from sklearn.metrics import r2_score\n",
    "from sklearn.ensemble import RandomForestRegressor, GradientBoostingRegressor, AdaBoostRegressor\n",
    "from sklearn.tree import DecisionTreeRegressor\n",
    "from sklearn.linear_model import LinearRegression\n",
    "from xgboost import XGBRegressor\n",
    "from typing import Dict\n",
    "from src.Premium_Price_Prediction import logger\n",
    "from joblib import dump\n",
    "import os\n",
    "\n",
    "class ModelEvaluation():\n",
    "    def __init__(self, config: ModelEvaluationConfig):\n",
    "        self.train_filepath = config.train_filepath\n",
    "        self.test_filepath = config.test_filepath\n",
    "        self.target_column = 'annual_premium_amount'\n",
    "        self.model_path = config.model_path\n",
    "        logger.info(\"ModelEvaluation initialized with train filepath: %s, test filepath: %s\", self.train_filepath, self.test_filepath)\n",
    "\n",
    "    def evaluate_models(self, X_train, y_train, X_test, y_test, models, param):\n",
    "        \"\"\"Evaluate multiple regression models and return their R2 scores.\"\"\"\n",
    "        try:\n",
    "            report = {}\n",
    "            logger.info(\"Starting model evaluation for %d models.\", len(models))\n",
    "\n",
    "            for model_name, model in models.items():\n",
    "                logger.info(\"Evaluating model: %s\", model_name)\n",
    "                para = param[model_name]\n",
    "\n",
    "                gs = RandomizedSearchCV(model, para, cv=3)\n",
    "                gs.fit(X_train, y_train)\n",
    "\n",
    "                model.set_params(**gs.best_params_)\n",
    "                model.fit(X_train, y_train)\n",
    "\n",
    "                y_train_pred = model.predict(X_train)\n",
    "                y_test_pred = model.predict(X_test)\n",
    "\n",
    "                train_model_score = r2_score(y_train, y_train_pred)\n",
    "                test_model_score = r2_score(y_test, y_test_pred)\n",
    "\n",
    "                report[model_name] = test_model_score\n",
    "                logger.info(f\"{model_name} - Train R2: {train_model_score:.4f}, Test R2: {test_model_score:.4f}\")\n",
    "\n",
    "            logger.info(\"Model evaluation completed.\")\n",
    "            return report\n",
    "\n",
    "        except Exception as e:\n",
    "            logger.error(f\"Model Evaluation Error: {str(e)}\")\n",
    "            raise\n",
    "\n",
    "    def evaluate_model(self):\n",
    "        \"\"\"Load data, train models, and evaluate their performance.\"\"\"\n",
    "        try:\n",
    "            logger.info(\"Loading training and testing data.\")\n",
    "            # Load train and test data\n",
    "            train_df = pd.read_csv(self.train_filepath)\n",
    "            test_df = pd.read_csv(self.test_filepath)\n",
    "\n",
    "            logger.info(\"Combining training and testing data.\")\n",
    "            # Combine train and test data\n",
    "            df = pd.concat([train_df, test_df], axis=0)\n",
    "\n",
    "            # Sample data if necessary (consider the dataset size)\n",
    "            df = df.sample(10)  # Be cautious with sampling; adjust as necessary\n",
    "\n",
    "            # Split into features and target\n",
    "            X = df.drop(self.target_column, axis=1)\n",
    "            y = df[self.target_column]\n",
    "\n",
    "            logger.info(\"Splitting data into training and testing sets.\")\n",
    "            # Split data into train and test sets\n",
    "            X_train, X_test, y_train, y_test = train_test_split(X, y, test_size=0.2, random_state=42)\n",
    "\n",
    "            # Define models and hyperparameters\n",
    "            models = {\n",
    "                \"Random Forest\": RandomForestRegressor(),\n",
    "                \"Decision Tree\": DecisionTreeRegressor(),\n",
    "                \"Gradient Boosting\": GradientBoostingRegressor(),\n",
    "                \"Linear Regression\": LinearRegression(),\n",
    "                \"XGBRegressor\": XGBRegressor(),\n",
    "                \"AdaBoost Regressor\": AdaBoostRegressor(),\n",
    "            }\n",
    "\n",
    "            params = {\n",
    "                \"Decision Tree\": {\n",
    "                    'criterion': ['squared_error', 'friedman_mse', 'absolute_error', 'poisson'],\n",
    "                },\n",
    "                \"Random Forest\": {\n",
    "                    'n_estimators': [8, 16, 32, 64, 128, 256]\n",
    "                },\n",
    "                \"Gradient Boosting\": {\n",
    "                    'learning_rate': [.1, .01, .05, .001],\n",
    "                    'subsample': [0.6, 0.7, 0.75, 0.8, 0.85, 0.9],\n",
    "                    'n_estimators': [8, 16, 32, 64, 128, 256]\n",
    "                },\n",
    "                \"Linear Regression\": {},\n",
    "                \"XGBRegressor\": {\n",
    "                    'learning_rate': [.1, .01, .05, .001],\n",
    "                    'n_estimators': [8, 16, 32, 64, 128, 256]\n",
    "                },\n",
    "                \"AdaBoost Regressor\": {\n",
    "                    'learning_rate': [.1, .01, 0.5, .001],\n",
    "                    'n_estimators': [8, 16, 32, 64, 128, 256]\n",
    "                }\n",
    "            }\n",
    "\n",
    "            # Evaluate models and get model report\n",
    "            model_report = self.evaluate_models(X_train, y_train, X_test, y_test, models, params)\n",
    "\n",
    "            # Get the best model\n",
    "            best_model_score = max(model_report.values())\n",
    "            best_model_name = max(model_report, key=model_report.get)\n",
    "            best_model = models[best_model_name]\n",
    "\n",
    "            if best_model_score < 0.6:\n",
    "                raise ValueError(\"No suitable model found with R2 score above 0.6\")\n",
    "\n",
    "            logger.info(f\"Best model: {best_model_name} with R2 score: {best_model_score:.4f}\")\n",
    "\n",
    "            # Save the best model\n",
    "            self.save_object(file_path=self.model_path, obj=best_model)\n",
    "\n",
    "            # Final prediction and R2 score on test set\n",
    "            predicted = best_model.predict(X_test)\n",
    "            final_r2 = r2_score(y_test, predicted)\n",
    "            logger.info(f\"Final R2 score on test set: {final_r2:.4f}\")\n",
    "            return final_r2\n",
    "\n",
    "        except Exception as e:\n",
    "            logger.error(f\"Error in model evaluation: {str(e)}\")\n",
    "            raise\n",
    "\n",
    "    def save_object(self, file_path, obj):\n",
    "        \"\"\"Save the model object to the specified file path.\"\"\"\n",
    "        if not os.path.exists(os.path.dirname(file_path)):\n",
    "            os.makedirs(os.path.dirname(file_path))\n",
    "        dump(obj, file_path)\n",
    "        logger.info(f\"Model saved to {file_path}\")\n"
   ]
  },
  {
   "cell_type": "code",
   "execution_count": 11,
   "metadata": {},
   "outputs": [
    {
     "name": "stdout",
     "output_type": "stream",
     "text": [
      "[2024-11-04 16:22:39,755: INFO: common: 30] YAML file : config\\config.yaml loaded successfully\n",
      "[2024-11-04 16:22:39,757: INFO: common: 30] YAML file : params.yaml loaded successfully\n",
      "[2024-11-04 16:22:39,760: INFO: common: 30] YAML file : schema.yaml loaded successfully\n",
      "[2024-11-04 16:22:39,761: INFO: common: 50] Directory artifacts created successfully.\n",
      "[2024-11-04 16:22:39,762: INFO: common: 50] Directory artifacts/model_evaluation created successfully.\n",
      "[2024-11-04 16:22:39,763: INFO: 4070258086: 20] ModelEvaluation initialized with train filepath: artifacts/feature_engineering/train_data.csv, test filepath: artifacts/feature_engineering/test_data.csv\n",
      "[2024-11-04 16:22:39,763: INFO: 4070258086: 57] Loading training and testing data.\n",
      "[2024-11-04 16:22:39,944: INFO: 4070258086: 62] Combining training and testing data.\n",
      "[2024-11-04 16:22:39,962: INFO: 4070258086: 73] Splitting data into training and testing sets.\n",
      "[2024-11-04 16:22:39,965: INFO: 4070258086: 26] Starting model evaluation for 6 models.\n",
      "[2024-11-04 16:22:39,967: INFO: 4070258086: 29] Evaluating model: Random Forest\n",
      "[2024-11-04 16:22:41,880: INFO: 4070258086: 45] Random Forest - Train R2: 0.9773, Test R2: 0.5440\n",
      "[2024-11-04 16:22:41,882: INFO: 4070258086: 29] Evaluating model: Decision Tree\n",
      "[2024-11-04 16:22:41,968: INFO: 4070258086: 45] Decision Tree - Train R2: 1.0000, Test R2: 0.2867\n",
      "[2024-11-04 16:22:41,968: INFO: 4070258086: 29] Evaluating model: Gradient Boosting\n",
      "[2024-11-04 16:22:43,862: INFO: 4070258086: 45] Gradient Boosting - Train R2: 0.9887, Test R2: 0.7451\n",
      "[2024-11-04 16:22:43,864: INFO: 4070258086: 29] Evaluating model: Linear Regression\n",
      "[2024-11-04 16:22:43,898: INFO: 4070258086: 45] Linear Regression - Train R2: 1.0000, Test R2: 0.7958\n",
      "[2024-11-04 16:22:43,898: INFO: 4070258086: 29] Evaluating model: XGBRegressor\n",
      "[2024-11-04 16:22:49,729: INFO: 4070258086: 45] XGBRegressor - Train R2: 0.9816, Test R2: -0.7224\n",
      "[2024-11-04 16:22:49,729: INFO: 4070258086: 29] Evaluating model: AdaBoost Regressor\n",
      "[2024-11-04 16:22:53,565: INFO: 4070258086: 45] AdaBoost Regressor - Train R2: 0.9999, Test R2: 0.8116\n",
      "[2024-11-04 16:22:53,565: INFO: 4070258086: 47] Model evaluation completed.\n",
      "[2024-11-04 16:22:53,565: INFO: 4070258086: 121] Best model: AdaBoost Regressor with R2 score: 0.8116\n",
      "[2024-11-04 16:22:53,677: INFO: 4070258086: 141] Model saved to artifacts/model_evaluation/models/best_model.joblib\n",
      "[2024-11-04 16:22:53,709: INFO: 4070258086: 129] Final R2 score on test set: 0.8116\n"
     ]
    },
    {
     "data": {
      "text/plain": [
       "0.8116206631785703"
      ]
     },
     "execution_count": 11,
     "metadata": {},
     "output_type": "execute_result"
    }
   ],
   "source": [
    "config = ConfigurationManager()\n",
    "model_evalution_config = config.get_model_evaluation()\n",
    "\n",
    "model_evaluation = ModelEvaluation(model_evalution_config)\n",
    "model_evaluation.evaluate_model()"
   ]
  },
  {
   "cell_type": "code",
   "execution_count": null,
   "metadata": {},
   "outputs": [],
   "source": []
  }
 ],
 "metadata": {
  "kernelspec": {
   "display_name": "venv",
   "language": "python",
   "name": "python3"
  },
  "language_info": {
   "codemirror_mode": {
    "name": "ipython",
    "version": 3
   },
   "file_extension": ".py",
   "mimetype": "text/x-python",
   "name": "python",
   "nbconvert_exporter": "python",
   "pygments_lexer": "ipython3",
   "version": "3.10.0"
  }
 },
 "nbformat": 4,
 "nbformat_minor": 2
}
