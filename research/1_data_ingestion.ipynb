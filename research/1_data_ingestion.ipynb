{
 "cells": [
  {
   "cell_type": "code",
   "execution_count": 1,
   "metadata": {},
   "outputs": [],
   "source": [
    "import os"
   ]
  },
  {
   "cell_type": "code",
   "execution_count": 2,
   "metadata": {},
   "outputs": [
    {
     "data": {
      "text/plain": [
       "'c:\\\\Users\\\\ambig\\\\jupiter_notebook\\\\Projects\\\\premium-price-prediction\\\\research'"
      ]
     },
     "execution_count": 2,
     "metadata": {},
     "output_type": "execute_result"
    }
   ],
   "source": [
    "%pwd"
   ]
  },
  {
   "cell_type": "code",
   "execution_count": 3,
   "metadata": {},
   "outputs": [
    {
     "data": {
      "text/plain": [
       "'c:\\\\Users\\\\ambig\\\\jupiter_notebook\\\\Projects\\\\premium-price-prediction'"
      ]
     },
     "execution_count": 3,
     "metadata": {},
     "output_type": "execute_result"
    }
   ],
   "source": [
    "os.chdir(\"../\")\n",
    "%pwd"
   ]
  },
  {
   "cell_type": "code",
   "execution_count": 4,
   "metadata": {},
   "outputs": [],
   "source": [
    "from dataclasses import dataclass\n",
    "from pathlib import Path\n",
    "\n",
    "@dataclass\n",
    "class DataIngestionconfig:\n",
    "    root_dir : Path\n",
    "    input_path: Path\n",
    "    output_path : Path\n",
    "    raw_data_path: Path\n",
    "    test_data_path : Path\n",
    "    train_data_path : Path\n",
    "    \n",
    "    \n",
    "    "
   ]
  },
  {
   "cell_type": "code",
   "execution_count": 5,
   "metadata": {},
   "outputs": [],
   "source": [
    "from src.Premium_Price_Prediction.constants import *\n",
    "from src.Premium_Price_Prediction.utils.common import read_yaml , create_directories"
   ]
  },
  {
   "cell_type": "code",
   "execution_count": 6,
   "metadata": {},
   "outputs": [],
   "source": [
    "class ConfigurationManager:\n",
    "    def __init__(self, \n",
    "                 config_filepath=CONFIG_FILE_PATH,\n",
    "                 params_filepath=PARAMS_FILE_PATH,\n",
    "                 schema_filepath=SCHEMA_FILE_PATH):\n",
    "        self.config = read_yaml(config_filepath)\n",
    "        self.params = read_yaml(params_filepath)\n",
    "        self.schema = read_yaml(schema_filepath)\n",
    "        \n",
    "        create_directories([self.config.artifacts_root])\n",
    "        \n",
    "    def get_data_ingestion_config(self) -> DataIngestionconfig:\n",
    "        config = self.config.data_ingestion\n",
    "        create_directories([config.root_dir])\n",
    "        \n",
    "        data_ingestion_config = DataIngestionconfig(\n",
    "            root_dir=config.root_dir,\n",
    "            input_path=config.input_path,\n",
    "            output_path=config.output_path,\n",
    "            raw_data_path=config.raw_data_path,\n",
    "            train_data_path=config.train_data_path,\n",
    "            test_data_path=config.test_data_path  # Fixed colon to equal sign\n",
    "        )\n",
    "        return data_ingestion_config\n"
   ]
  },
  {
   "cell_type": "code",
   "execution_count": null,
   "metadata": {},
   "outputs": [],
   "source": []
  },
  {
   "cell_type": "code",
   "execution_count": null,
   "metadata": {},
   "outputs": [],
   "source": [
    "import os\n",
    "import  urllib.request as request\n",
    "import os\n",
    "import pandas as pd\n",
    "from sklearn.model_selection import train_test_split\n",
    "from src.Premium_Price_Prediction import logger  # Ensure the logger is correctly imported\n",
    "\n",
    "class DataIngestion:\n",
    "    def __init__(self, config: DataIngestionconfig):\n",
    "        self.input_path = config.input_path\n",
    "        self.output_path = config.output_path  # Output path where files will be saved\n",
    "        self.raw_data_path = config.raw_data_path  # Path for raw data\n",
    "        self.train_data_path = config.train_data_path  # Path for training data\n",
    "        self.test_data_path = config.test_data_path  # Path for testing data\n",
    "        \n",
    "    def load_data(self):\n",
    "        \"\"\"Loads data from an Excel file.\"\"\"\n",
    "        try:\n",
    "            df = pd.read_excel(self.input_path)\n",
    "            logger.info(\"Data loaded successfully.\")\n",
    "            print(df.head())  # Display the first few rows of the DataFrame\n",
    "            return df  # Return the loaded DataFrame for further use\n",
    "        except Exception as e:\n",
    "            logger.error(f\"Error occurred while loading data: {str(e)}\")\n",
    "            raise e\n",
    "    \n",
    "    def save_data(self) -> None:\n",
    "        \"\"\"Loads data and saves it in data ingestion artifacts.\n",
    "        \n",
    "        Raises:\n",
    "            Exception: For any errors encountered while saving the data.\n",
    "        \"\"\"\n",
    "        try:\n",
    "            df = self.load_data()  # Load data\n",
    "            \n",
    "            # Ensure directory exists for output\n",
    "            os.makedirs(os.path.dirname(self.output_path), exist_ok=True)  \n",
    "            \n",
    "            os.makedirs(os.path.dirname(self.output_path), exist_ok=True)  \n",
    "            # Save the raw data\n",
    "            df.to_csv(self.raw_data_path, index=False)\n",
    "            logger.info(f\"Raw data saved successfully in {self.raw_data_path}\")\n",
    "\n",
    "          \n",
    "        except Exception as e:\n",
    "            logger.error(f\"Error occurred while saving data: {str(e)}\")\n",
    "            raise e\n"
   ]
  },
  {
   "cell_type": "code",
   "execution_count": 9,
   "metadata": {},
   "outputs": [
    {
     "name": "stdout",
     "output_type": "stream",
     "text": [
      "[2024-11-04 11:52:26,688: INFO: common: 30] YAML file : config\\config.yaml loaded successfully\n",
      "[2024-11-04 11:52:26,716: INFO: common: 30] YAML file : params.yaml loaded successfully\n",
      "[2024-11-04 11:52:26,716: INFO: common: 30] YAML file : schema.yaml loaded successfully\n",
      "[2024-11-04 11:52:26,722: INFO: common: 50] Directory artifacts created successfully.\n",
      "[2024-11-04 11:52:26,722: INFO: common: 50] Directory artifacts/data_ingestion created successfully.\n",
      "[2024-11-04 11:52:42,664: INFO: 1438235562: 20] Data loaded successfully.\n",
      "   Age  Gender     Region Marital_status  Number Of Dependants BMI_Category  \\\n",
      "0   26    Male  Northwest      Unmarried                     0       Normal   \n",
      "1   29  Female  Southeast        Married                     2      Obesity   \n",
      "2   49  Female  Northeast        Married                     2       Normal   \n",
      "3   30  Female  Southeast        Married                     3       Normal   \n",
      "4   18    Male  Northeast      Unmarried                     0   Overweight   \n",
      "\n",
      "  Smoking_Status Employment_Status Income_Level  Income_Lakhs  \\\n",
      "0     No Smoking          Salaried         <10L             6   \n",
      "1        Regular          Salaried         <10L             6   \n",
      "2     No Smoking     Self-Employed    10L - 25L            20   \n",
      "3     No Smoking          Salaried        > 40L            77   \n",
      "4        Regular     Self-Employed        > 40L            99   \n",
      "\n",
      "       Medical History Insurance_Plan  Annual_Premium_Amount  \n",
      "0             Diabetes         Bronze                   9053  \n",
      "1             Diabetes         Bronze                  16339  \n",
      "2  High blood pressure         Silver                  18164  \n",
      "3           No Disease           Gold                  20303  \n",
      "4  High blood pressure         Silver                  13365  \n",
      "[2024-11-04 11:52:56,811: INFO: 1438235562: 20] Data loaded successfully.\n",
      "   Age  Gender     Region Marital_status  Number Of Dependants BMI_Category  \\\n",
      "0   26    Male  Northwest      Unmarried                     0       Normal   \n",
      "1   29  Female  Southeast        Married                     2      Obesity   \n",
      "2   49  Female  Northeast        Married                     2       Normal   \n",
      "3   30  Female  Southeast        Married                     3       Normal   \n",
      "4   18    Male  Northeast      Unmarried                     0   Overweight   \n",
      "\n",
      "  Smoking_Status Employment_Status Income_Level  Income_Lakhs  \\\n",
      "0     No Smoking          Salaried         <10L             6   \n",
      "1        Regular          Salaried         <10L             6   \n",
      "2     No Smoking     Self-Employed    10L - 25L            20   \n",
      "3     No Smoking          Salaried        > 40L            77   \n",
      "4        Regular     Self-Employed        > 40L            99   \n",
      "\n",
      "       Medical History Insurance_Plan  Annual_Premium_Amount  \n",
      "0             Diabetes         Bronze                   9053  \n",
      "1             Diabetes         Bronze                  16339  \n",
      "2  High blood pressure         Silver                  18164  \n",
      "3           No Disease           Gold                  20303  \n",
      "4  High blood pressure         Silver                  13365  \n",
      "[2024-11-04 11:52:57,101: INFO: 1438235562: 42] Raw data saved successfully in artifacts/data_ingestion/raw.csv\n",
      "[2024-11-04 11:52:57,104: INFO: 1438235562: 45] Train-test split initiated\n",
      "[2024-11-04 11:52:57,397: INFO: 1438235562: 55] Ingestion of the data is completed\n"
     ]
    }
   ],
   "source": [
    "try : \n",
    "    config = ConfigurationManager()\n",
    "    data_ingestion_config = config.get_data_ingestion_config()\n",
    "    data_ingestion = DataIngestion(config=data_ingestion_config)\n",
    "    data_ingestion.load_data()\n",
    "    data_ingestion.save_data()\n",
    "\n",
    "except Exception as e:\n",
    "    logger.error(f\"Error occurred during data ingestion: {str(e)}\")\n",
    "    raise e"
   ]
  },
  {
   "cell_type": "code",
   "execution_count": null,
   "metadata": {},
   "outputs": [],
   "source": []
  },
  {
   "cell_type": "code",
   "execution_count": null,
   "metadata": {},
   "outputs": [],
   "source": []
  }
 ],
 "metadata": {
  "kernelspec": {
   "display_name": "venv",
   "language": "python",
   "name": "python3"
  },
  "language_info": {
   "codemirror_mode": {
    "name": "ipython",
    "version": 3
   },
   "file_extension": ".py",
   "mimetype": "text/x-python",
   "name": "python",
   "nbconvert_exporter": "python",
   "pygments_lexer": "ipython3",
   "version": "3.10.0"
  }
 },
 "nbformat": 4,
 "nbformat_minor": 2
}
